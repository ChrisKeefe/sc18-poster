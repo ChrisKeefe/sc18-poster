{
 "cells": [
  {
   "cell_type": "code",
   "execution_count": 21,
   "metadata": {},
   "outputs": [],
   "source": [
    "# Import QIIME 2 and relevant plugins\n",
    "import qiime2.plugins.phylogeny.actions as phylogeny\n",
    "import qiime2.plugins.diversity.actions as diversity\n",
    "import qiime2.plugins.feature_classifier.actions as feature_classifier\n",
    "import qiime2.plugins.taxa.actions as taxa\n",
    "import qiime2.plugins.feature_table.actions as feature_table\n",
    "import qiime2.plugins.emperor.actions as emperor\n",
    "\n",
    "import qiime2\n",
    "import pathlib"
   ]
  },
  {
   "cell_type": "code",
   "execution_count": 2,
   "metadata": {},
   "outputs": [],
   "source": [
    "data_dir = pathlib.Path('data-single')\n",
    "ref_dir = pathlib.Path('ref')\n",
    "viz_dir = data_dir / 'visualizations'"
   ]
  },
  {
   "cell_type": "code",
   "execution_count": 3,
   "metadata": {},
   "outputs": [],
   "source": [
    "# Load some important files\n",
    "sample_metadata = qiime2.Metadata.load('sample-metadata-complete.tsv')\n",
    "sequences = qiime2.Artifact.load(data_dir / 'rep-seqs.qza')\n",
    "feature_tbl = qiime2.Artifact.load(data_dir / 'table.qza')"
   ]
  },
  {
   "cell_type": "code",
   "execution_count": 4,
   "metadata": {},
   "outputs": [
    {
     "data": {
      "text/plain": [
       "'data-single/filtered-table.qza'"
      ]
     },
     "execution_count": 4,
     "metadata": {},
     "output_type": "execute_result"
    }
   ],
   "source": [
    "# Filter out samples with sequence counts below our chosen rarefaction depth\n",
    "filtered_table, = feature_table.filter_samples(feature_tbl, min_frequency=35529)\n",
    "filtered_table.save(str(data_dir / 'filtered-table.qza'))\n"
   ]
  },
  {
   "cell_type": "code",
   "execution_count": 5,
   "metadata": {
    "scrolled": true
   },
   "outputs": [
    {
     "name": "stdout",
     "output_type": "stream",
     "text": [
      "Running external command line application. This may print messages to stdout and/or stderr.\n",
      "The command being run is below. This command cannot be manually re-run as it will depend on temporary files that no longer exist.\n",
      "\n",
      "Command: mafft --preservecase --inputorder --thread 1 /tmp/qiime2-archive-_dkqoseb/22e6f056-448d-49d1-991c-9dc5dd48ceff/data/dna-sequences.fasta\n",
      "\n",
      "Running external command line application. This may print messages to stdout and/or stderr.\n",
      "The command being run is below. This command cannot be manually re-run as it will depend on temporary files that no longer exist.\n",
      "\n",
      "Command: FastTree -quote -nt /tmp/qiime2-archive-giyr0mhp/85202131-4d8b-4e6b-a6c5-81552474c259/data/aligned-dna-sequences.fasta\n",
      "\n"
     ]
    },
    {
     "data": {
      "text/plain": [
       "'data-single/rooted-tree.qza'"
      ]
     },
     "execution_count": 5,
     "metadata": {},
     "output_type": "execute_result"
    }
   ],
   "source": [
    "# Build phylogenetic tree\n",
    "result = phylogeny.align_to_tree_mafft_fasttree(sequences)\n",
    "result.rooted_tree.save(str(data_dir / 'rooted-tree.qza'))"
   ]
  },
  {
   "cell_type": "code",
   "execution_count": 7,
   "metadata": {},
   "outputs": [
    {
     "data": {
      "text/plain": [
       "'data-single/visualizations/alpha-rarefaction.qzv'"
      ]
     },
     "execution_count": 7,
     "metadata": {},
     "output_type": "execute_result"
    }
   ],
   "source": [
    "# Create alpha-rarefaction vizualization to explore alpha-diversity\n",
    "viz, = diversity.alpha_rarefaction(feature_tbl, 35529, result.rooted_tree, metadata=sample_metadata)\n",
    "viz.save(str(viz_dir / 'alpha-rarefaction.qzv'))"
   ]
  },
  {
   "cell_type": "code",
   "execution_count": 8,
   "metadata": {},
   "outputs": [
    {
     "name": "stderr",
     "output_type": "stream",
     "text": [
      "/home/chris/miniconda3/envs/q2-dev/lib/python3.5/site-packages/sklearn/utils/validation.py:475: DataConversionWarning: Data with input dtype float64 was converted to bool by check_pairwise_arrays.\n",
      "  warnings.warn(msg, DataConversionWarning)\n",
      "/home/chris/miniconda3/envs/q2-dev/lib/python3.5/site-packages/skbio/stats/ordination/_principal_coordinate_analysis.py:152: RuntimeWarning: The result contains negative eigenvalues. Please compare their magnitude with the magnitude of some of the largest positive eigenvalues. If the negative ones are smaller, it's probably safe to ignore them, but if they are large in magnitude, the results won't be useful. See the Notes section for more details. The smallest eigenvalue is -0.009334217965861482 and the largest is 1.0135457378310724.\n",
      "  RuntimeWarning\n"
     ]
    }
   ],
   "source": [
    "# Generate community diversity metrics...\n",
    "core_metric_results = diversity.core_metrics_phylogenetic(\n",
    "    feature_tbl, result.rooted_tree, sampling_depth=35529, metadata=sample_metadata)\n"
   ]
  },
  {
   "cell_type": "code",
   "execution_count": 10,
   "metadata": {},
   "outputs": [],
   "source": [
    "# Iterate over core metrics outputs, saving artifacts (not visualizations) to data_dir\n",
    "for name, value in zip(core_metric_results._fields, core_metric_results):\n",
    "    if value.format is not None:\n",
    "        value.save(str(data_dir / name))"
   ]
  },
  {
   "cell_type": "code",
   "execution_count": 13,
   "metadata": {},
   "outputs": [
    {
     "data": {
      "text/plain": [
       "'data-single/visualizations/alpha-correlation.qzv'"
      ]
     },
     "execution_count": 13,
     "metadata": {},
     "output_type": "execute_result"
    }
   ],
   "source": [
    "# Generate alpha-correlation data to explore links between continuous metadata and diversity\n",
    "alpha_corr, = diversity.alpha_correlation(core_metric_results.observed_otus_vector, sample_metadata, 'spearman')\n",
    "alpha_corr.save(str(viz_dir / 'alpha-correlation.qzv'))"
   ]
  },
  {
   "cell_type": "code",
   "execution_count": 15,
   "metadata": {},
   "outputs": [
    {
     "data": {
      "text/plain": [
       "'data-single/taxonomy.qza'"
      ]
     },
     "execution_count": 15,
     "metadata": {},
     "output_type": "execute_result"
    }
   ],
   "source": [
    "# Load a pre-trained classifier...\n",
    "greengenes_classifier = qiime2.Artifact.load(ref_dir / 'gg-13-8-99-nb-classifier.qza')\n",
    "\n",
    "#... and classify our sequences.\n",
    "taxonomy, = feature_classifier.classify_sklearn(sequences, greengenes_classifier)\n",
    "taxonomy.save(str(data_dir / 'taxonomy.qza'))"
   ]
  },
  {
   "cell_type": "code",
   "execution_count": 24,
   "metadata": {},
   "outputs": [
    {
     "data": {
      "text/plain": [
       "'data-single/visualizations/uw_unifrac_biplot.qzv'"
      ]
     },
     "execution_count": 24,
     "metadata": {},
     "output_type": "execute_result"
    }
   ],
   "source": [
    "# Compute Biplot\n",
    "relative_frequency_tbl, = feature_table.relative_frequency(filtered_table)\n",
    "pcoa_biplot, = diversity.pcoa_biplot(core_metric_results.unweighted_unifrac_pcoa_results, relative_frequency_tbl)\n",
    "taxonomy_as_md = taxonomy.view(qiime2.Metadata)\n",
    "emperor_biplot, = emperor.biplot(pcoa_biplot, sample_metadata=sample_metadata, feature_metadata=taxonomy_as_md)\n",
    "emperor_biplot.save(str(viz_dir / 'uw_unifrac_biplot.qzv'))"
   ]
  },
  {
   "cell_type": "code",
   "execution_count": 17,
   "metadata": {},
   "outputs": [
    {
     "data": {
      "text/plain": [
       "'data-single/visualizations/taxa-barplot.qzv'"
      ]
     },
     "execution_count": 17,
     "metadata": {},
     "output_type": "execute_result"
    }
   ],
   "source": [
    "# Create taxa-barplot\n",
    "taxa_plot, = taxa.barplot(filtered_table, taxonomy, sample_metadata)\n",
    "taxa_plot.save(str(viz_dir / 'taxa-barplot.qzv'))"
   ]
  }
 ],
 "metadata": {
  "kernelspec": {
   "display_name": "Python 3",
   "language": "python",
   "name": "python3"
  },
  "language_info": {
   "codemirror_mode": {
    "name": "ipython",
    "version": 3
   },
   "file_extension": ".py",
   "mimetype": "text/x-python",
   "name": "python",
   "nbconvert_exporter": "python",
   "pygments_lexer": "ipython3",
   "version": "3.5.5"
  }
 },
 "nbformat": 4,
 "nbformat_minor": 2
}
